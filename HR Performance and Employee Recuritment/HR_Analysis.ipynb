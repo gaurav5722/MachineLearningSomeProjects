{
 "cells": [
  {
   "cell_type": "code",
   "execution_count": null,
   "id": "37589f42-ce8e-4728-88e7-0d05bf62f7c7",
   "metadata": {},
   "outputs": [],
   "source": [
    "\n",
    "import matplotlib.pyplot as plt\n",
    "import seaborn as sns\n",
    "import pandas as pd\n",
    "import numpy as np\n",
    "df = pd.read_csv('./HR_comma_sep.csv.crdownload',encoding='utf-8')"
   ]
  },
  {
   "cell_type": "code",
   "execution_count": null,
   "id": "0416cb31-1b6d-42ce-aabc-6a9e692fcb4e",
   "metadata": {},
   "outputs": [],
   "source": [
    "df.head()"
   ]
  },
  {
   "cell_type": "code",
   "execution_count": null,
   "id": "e2ad0ef3-fe2a-46de-8924-94e9741238b7",
   "metadata": {},
   "outputs": [],
   "source": [
    "#The satifaction_level defines the satisfaction of the employee to work in the company\n",
    "# The number of project define the projects done by him/her\n",
    "# time_spend_company determines the time spent in the company"
   ]
  },
  {
   "cell_type": "markdown",
   "id": "0b9b12ca-619a-4856-934b-70bcf892f3d5",
   "metadata": {},
   "source": [
    "# Clean data"
   ]
  },
  {
   "cell_type": "code",
   "execution_count": null,
   "id": "1232acd2-3755-460d-9c09-2b07a14062b9",
   "metadata": {},
   "outputs": [],
   "source": [
    "df.duplicated().sum()"
   ]
  },
  {
   "cell_type": "code",
   "execution_count": null,
   "id": "81d60a16-939a-4feb-af18-0f70ce324f73",
   "metadata": {},
   "outputs": [],
   "source": [
    "# we have 9 duplicates so we need to drop it"
   ]
  },
  {
   "cell_type": "code",
   "execution_count": null,
   "id": "4919539f-9ec3-4117-a2c6-bda12e7802a3",
   "metadata": {},
   "outputs": [],
   "source": [
    "df.drop_duplicates(inplace=True)"
   ]
  },
  {
   "cell_type": "code",
   "execution_count": null,
   "id": "31073dae-4b5d-40d1-92ae-e71ca1324c3a",
   "metadata": {},
   "outputs": [],
   "source": [
    "cols=df.columns.tolist()"
   ]
  },
  {
   "cell_type": "code",
   "execution_count": null,
   "id": "6a34d4f7-2990-4682-b556-c06aff57611c",
   "metadata": {},
   "outputs": [],
   "source": [
    "df.columns= [x.lower() for x in cols]\n",
    "df.columns"
   ]
  },
  {
   "cell_type": "code",
   "execution_count": null,
   "id": "2305fe2e-8c81-496c-a9a3-bbdc5383f6e1",
   "metadata": {},
   "outputs": [],
   "source": [
    "# writing the functions for the above code\n",
    "\n",
    "def reading_cleaning(df):\n",
    "    df.drop_duplicates(inplace=True)\n",
    "    cols = df.columns.tolist()\n",
    "    df.columns = [x.lower() for x in cols]\n",
    "\n",
    "    return df\n",
    "df=reading_cleaning(df)\n",
    "df.head()"
   ]
  },
  {
   "cell_type": "markdown",
   "id": "869e36a9-1d20-49e8-8cee-5a482d59d6f4",
   "metadata": {},
   "source": [
    "# Evaluating Employee Details"
   ]
  },
  {
   "cell_type": "code",
   "execution_count": null,
   "id": "9adc51cd-5ff7-4a2d-b89c-f961c3318e4b",
   "metadata": {},
   "outputs": [],
   "source": [
    "df['satisfaction_level'].mean()   # To get the mean of full statisfaction level\n",
    "df['department'].value_counts() # To get the different departments\n"
   ]
  },
  {
   "cell_type": "code",
   "execution_count": null,
   "id": "da496f23-c760-4642-ac91-2a5a76f5f174",
   "metadata": {},
   "outputs": [],
   "source": [
    "df.groupby('department')['satisfaction_level'].mean()    #To group the employees based on the satisfaction and calculation  of mean for each group"
   ]
  },
  {
   "cell_type": "code",
   "execution_count": null,
   "id": "332cc885-e1a3-4ac1-98b6-10b0dd368d9e",
   "metadata": {},
   "outputs": [],
   "source": [
    "df.groupby('salary')['satisfaction_level'].mean()  # To group the employees based on the  salary and satisfaction level mean of each employee"
   ]
  },
  {
   "cell_type": "code",
   "execution_count": null,
   "id": "a1fbf911-424b-4a0e-9b4d-708566bb9514",
   "metadata": {},
   "outputs": [],
   "source": [
    "df['left'].value_counts()   # 0<--employee not left   #1<--employee left"
   ]
  },
  {
   "cell_type": "code",
   "execution_count": null,
   "id": "fde633c9-60b3-4dde-9a8f-e8a470554959",
   "metadata": {},
   "outputs": [],
   "source": [
    "len(df[df['left']==0])           #The total employee that has not left the compony"
   ]
  },
  {
   "cell_type": "code",
   "execution_count": null,
   "id": "1431bef8-c6f3-4b20-945b-b5f11b0032d4",
   "metadata": {},
   "outputs": [],
   "source": [
    "len(df[df['left']==1])           # The total employee that has left the company"
   ]
  },
  {
   "cell_type": "code",
   "execution_count": null,
   "id": "3d916142-1d37-4f17-b998-685a8992ef3c",
   "metadata": {},
   "outputs": [],
   "source": [
    "# Now automating the above task with the help of the function"
   ]
  },
  {
   "cell_type": "code",
   "execution_count": null,
   "id": "3672b9ef-edec-4c18-a5f2-ad082174c8e0",
   "metadata": {},
   "outputs": [],
   "source": [
    "def employee_important_info(df):\n",
    "    # Average satisfaction level\n",
    "    average_satisfaction = df['satisfaction_level'].mean()\n",
    "    #Department wise average satifaction level\n",
    "    department_satisfaction = df.groupby('department')['satisfaction_level'].mean()\n",
    "    # salary wise average satisfaction level\n",
    "    salary_satisfaction = df.groupby('salary')['satisfaction_level'].mean()\n",
    "\n",
    "    # Employee who left\n",
    "    left_employees = len(df[df['left']==1])\n",
    "    # Employee who stayed\n",
    "    stayed_employees = len(df[df['left']==0])\n",
    "\n",
    "    return average_satisfaction,department_satisfaction,salary_satisfaction,left_employees,stayed_employees\n",
    "\n",
    "    "
   ]
  },
  {
   "cell_type": "code",
   "execution_count": null,
   "id": "6b3754c8-020f-44bf-bbdb-d8b1e4fd1de4",
   "metadata": {},
   "outputs": [],
   "source": [
    "average_satisfaction,department_satisfaction,salary_satisfaction,left_employees,stayed_employees = employee_important_info(df)"
   ]
  },
  {
   "cell_type": "code",
   "execution_count": null,
   "id": "d56df96a-6062-446d-847b-23d7f0cf8d95",
   "metadata": {},
   "outputs": [],
   "source": [
    "print(\"Average Satisfaction level:\",average_satisfaction)\n",
    "print(\"Department-wise Average Satisfaction level:\\n\",department_satisfaction)\n",
    "print(\"Salary-wise Average Satisfaction Level :\\n\",salary_satisfaction)\n",
    "print(\"Employee who stayed :\",stayed_employees)"
   ]
  },
  {
   "cell_type": "markdown",
   "id": "e156a978-7161-44f3-8e08-768e4e7697a3",
   "metadata": {},
   "source": [
    "# Pie Plot for employee different features"
   ]
  },
  {
   "cell_type": "code",
   "execution_count": null,
   "id": "3f9c3454-c4fd-4654-8acd-5cfffb295f1d",
   "metadata": {},
   "outputs": [],
   "source": [
    "def plots(df,col):\n",
    "    values = df[col].unique()\n",
    "    plt.figure(figsize=(15,8))\n",
    "    \n",
    "    explode = [0.1 if len(values) >1 else 0] * len(values)\n",
    "    plt.pie(df[col].value_counts(),explode=explode,startangle=40,autopct='%1.1f%%',shadow=True)\n",
    "    labels = [f'{value} ({col})' for value in values]\n",
    "    plt.legend(labels=labels,loc='upper right')\n",
    "    \n",
    "    plt.title(f\"distribution of {col}\")\n",
    "    plt.show()\n",
    "    \n",
    "plots(df,'left')"
   ]
  },
  {
   "cell_type": "code",
   "execution_count": null,
   "id": "1931de09-bb58-45c7-b509-896a8f77098a",
   "metadata": {},
   "outputs": [],
   "source": [
    "plots(df,'salary')"
   ]
  },
  {
   "cell_type": "code",
   "execution_count": null,
   "id": "bdc09fc8-cd95-4812-a1f2-2c90762d2236",
   "metadata": {},
   "outputs": [],
   "source": [
    "plots(df,'number_project')"
   ]
  },
  {
   "cell_type": "code",
   "execution_count": null,
   "id": "8a63f01a-8606-49a0-af72-d694f282030c",
   "metadata": {},
   "outputs": [],
   "source": [
    "plots(df,'department')"
   ]
  },
  {
   "cell_type": "markdown",
   "id": "8d271908-1932-4628-b876-44a26bddb7f4",
   "metadata": {},
   "source": [
    "# Employee distribution"
   ]
  },
  {
   "cell_type": "code",
   "execution_count": null,
   "id": "68aa3298-39eb-418c-af46-1b34dfe3405a",
   "metadata": {},
   "outputs": [],
   "source": [
    "# we will use seaborn library \n",
    "sns.countplot(x=df['salary'],hue='left',data=df)   #so hue defines the  column reference and salary is the first column  to plot. For low more employee left than remain"
   ]
  },
  {
   "cell_type": "code",
   "execution_count": null,
   "id": "687d57a0-6e2a-4dce-b2c6-5e887388d249",
   "metadata": {},
   "outputs": [],
   "source": [
    "def distribution(df,col):\n",
    "    values = df[col].unique()\n",
    "    plt.figure(figsize=(15,8))\n",
    "    sns.countplot(x=df[col],hue='left',palette='Set1',data=df)\n",
    "    labels = [f\"{val} ({col})\" for val in values]\n",
    "    plt.legend(labels=labels,loc=\"upper right\")\n",
    "    plt.title(f\"distribution of {col}\")\n",
    "    plt.xticks(rotation=90)\n",
    "    plt.show()\n",
    "distribution(df,'salary')"
   ]
  },
  {
   "cell_type": "code",
   "execution_count": null,
   "id": "ed9d5d49-49e6-48c4-8794-f82302c2a061",
   "metadata": {},
   "outputs": [],
   "source": [
    "distribution(df,'department')"
   ]
  },
  {
   "cell_type": "code",
   "execution_count": null,
   "id": "616cf287-0064-4784-8a1b-cee900d34b46",
   "metadata": {},
   "outputs": [],
   "source": [
    "# comparison of each department individual based on the satisfaction level\n",
    "def comparison(df,x,y):\n",
    "    plt.figure(figsize=(15,8))\n",
    "    sns.barplot(x=x,y=y,hue='left',data=df,errorbar=None)\n",
    "    plt.title(f'{x} vs {y}')\n",
    "    plt.show()\n",
    "comparison(df,'department', 'satisfaction_level')"
   ]
  },
  {
   "cell_type": "code",
   "execution_count": null,
   "id": "40fc504f-73d5-4f8b-8c84-b742f82ed2bf",
   "metadata": {},
   "outputs": [],
   "source": [
    "def corr_with_left(df):\n",
    "    df_encoded = pd.get_dummies(df)\n",
    "    correlations = df_encoded.corr()['left'].sort_values()[:-1]\n",
    "    colors = ['skyblue' if corr>=0 else 'salmon' for corr in correlations]\n",
    "    plt.figure(figsize=(10,8))\n",
    "    correlations.plot(kind='barh', color=colors)\n",
    "    # Add title and labels\n",
    "    plt.title('Correlation with Left')\n",
    "    plt.xlabel('Correlation')\n",
    "    plt.ylabel('Features')\n",
    "\n",
    "    # Show the plot\n",
    "    plt.show()\n",
    "corr_with_left(df)"
   ]
  },
  {
   "cell_type": "markdown",
   "id": "147d7608-e749-4689-ad8b-f7e459286328",
   "metadata": {},
   "source": [
    "# Employee Churn Analysis"
   ]
  },
  {
   "cell_type": "code",
   "execution_count": null,
   "id": "0da912da-9533-4a43-aefe-0a44b14feecc",
   "metadata": {},
   "outputs": [],
   "source": [
    "# '''The code generates a subplot with two histograms for visualization purposes.The first histogram displays the distribution of the columns especified by\n",
    "# the variable col in the dataframe df,with bins set to 20.The bars are coloured according to the 'left column'. The second histogram is a kernel density \n",
    "# estimation plot showing the relationship between satisfaction_level and last_evaluation also coloured by the left_coloumn \n",
    "# .Finally plt.tight_layout ensures that the plots are properly arranged and displayed withour overlapping.'''"
   ]
  },
  {
   "cell_type": "code",
   "execution_count": null,
   "id": "9b21c80a-28a3-4860-8df2-90fdae442cd1",
   "metadata": {},
   "outputs": [],
   "source": [
    "def histogram(df, col):\n",
    "    fig, axes = plt.subplots(1, 2, figsize=(15, 6))  # Create a grid of 1 row and 2 columns\n",
    "\n",
    "    # Plot the first histogram for column1\n",
    "    sns.histplot(data=df, x=col, hue='left', bins=20, ax=axes[0])\n",
    "    axes[0].set_title(f\"Histogram of {col}\")\n",
    "\n",
    "    # Plot the second histogram for column2\n",
    "    sns.kdeplot(data=df, x='satisfaction_level', y='last_evaluation', hue='left', fill=True, ax=axes[1])\n",
    "    axes[1].set_title(\"Kernel Density Estimation\")\n",
    "\n",
    "    plt.tight_layout()  # Adjust the layout to prevent overlapping\n",
    "    plt.show()\n",
    "\n",
    "histogram(df, 'satisfaction_level')"
   ]
  },
  {
   "cell_type": "code",
   "execution_count": null,
   "id": "a41aefb1-8efc-463d-9b6f-5f0ad0968403",
   "metadata": {},
   "outputs": [],
   "source": [
    "# K-Means"
   ]
  }
 ],
 "metadata": {
  "kernelspec": {
   "display_name": "Python 3 (ipykernel)",
   "language": "python",
   "name": "python3"
  },
  "language_info": {
   "codemirror_mode": {
    "name": "ipython",
    "version": 3
   },
   "file_extension": ".py",
   "mimetype": "text/x-python",
   "name": "python",
   "nbconvert_exporter": "python",
   "pygments_lexer": "ipython3",
   "version": "3.11.7"
  }
 },
 "nbformat": 4,
 "nbformat_minor": 5
}
