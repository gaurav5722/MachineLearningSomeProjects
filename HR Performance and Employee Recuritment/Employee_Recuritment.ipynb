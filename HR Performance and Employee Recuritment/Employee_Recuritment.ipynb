{
 "cells": [
  {
   "cell_type": "code",
   "execution_count": 1,
   "id": "a1b6d129-10db-4457-8d31-d8c400d445df",
   "metadata": {},
   "outputs": [
    {
     "data": {
      "text/html": [
       "<div>\n",
       "<style scoped>\n",
       "    .dataframe tbody tr th:only-of-type {\n",
       "        vertical-align: middle;\n",
       "    }\n",
       "\n",
       "    .dataframe tbody tr th {\n",
       "        vertical-align: top;\n",
       "    }\n",
       "\n",
       "    .dataframe thead th {\n",
       "        text-align: right;\n",
       "    }\n",
       "</style>\n",
       "<table border=\"1\" class=\"dataframe\">\n",
       "  <thead>\n",
       "    <tr style=\"text-align: right;\">\n",
       "      <th></th>\n",
       "      <th>sl_no</th>\n",
       "      <th>gender</th>\n",
       "      <th>ssc_p</th>\n",
       "      <th>ssc_b</th>\n",
       "      <th>hsc_p</th>\n",
       "      <th>hsc_b</th>\n",
       "      <th>hsc_s</th>\n",
       "      <th>degree_p</th>\n",
       "      <th>degree_t</th>\n",
       "      <th>workex</th>\n",
       "      <th>etest_p</th>\n",
       "      <th>specialisation</th>\n",
       "      <th>mba_p</th>\n",
       "      <th>status</th>\n",
       "      <th>salary</th>\n",
       "    </tr>\n",
       "  </thead>\n",
       "  <tbody>\n",
       "    <tr>\n",
       "      <th>0</th>\n",
       "      <td>1</td>\n",
       "      <td>M</td>\n",
       "      <td>67.00</td>\n",
       "      <td>Others</td>\n",
       "      <td>91.00</td>\n",
       "      <td>Others</td>\n",
       "      <td>Commerce</td>\n",
       "      <td>58.00</td>\n",
       "      <td>Sci&amp;Tech</td>\n",
       "      <td>No</td>\n",
       "      <td>55.0</td>\n",
       "      <td>Mkt&amp;HR</td>\n",
       "      <td>58.80</td>\n",
       "      <td>Placed</td>\n",
       "      <td>270000.0</td>\n",
       "    </tr>\n",
       "    <tr>\n",
       "      <th>1</th>\n",
       "      <td>2</td>\n",
       "      <td>M</td>\n",
       "      <td>79.33</td>\n",
       "      <td>Central</td>\n",
       "      <td>78.33</td>\n",
       "      <td>Others</td>\n",
       "      <td>Science</td>\n",
       "      <td>77.48</td>\n",
       "      <td>Sci&amp;Tech</td>\n",
       "      <td>Yes</td>\n",
       "      <td>86.5</td>\n",
       "      <td>Mkt&amp;Fin</td>\n",
       "      <td>66.28</td>\n",
       "      <td>Placed</td>\n",
       "      <td>200000.0</td>\n",
       "    </tr>\n",
       "    <tr>\n",
       "      <th>2</th>\n",
       "      <td>3</td>\n",
       "      <td>M</td>\n",
       "      <td>65.00</td>\n",
       "      <td>Central</td>\n",
       "      <td>68.00</td>\n",
       "      <td>Central</td>\n",
       "      <td>Arts</td>\n",
       "      <td>64.00</td>\n",
       "      <td>Comm&amp;Mgmt</td>\n",
       "      <td>No</td>\n",
       "      <td>75.0</td>\n",
       "      <td>Mkt&amp;Fin</td>\n",
       "      <td>57.80</td>\n",
       "      <td>Placed</td>\n",
       "      <td>250000.0</td>\n",
       "    </tr>\n",
       "    <tr>\n",
       "      <th>3</th>\n",
       "      <td>4</td>\n",
       "      <td>M</td>\n",
       "      <td>56.00</td>\n",
       "      <td>Central</td>\n",
       "      <td>52.00</td>\n",
       "      <td>Central</td>\n",
       "      <td>Science</td>\n",
       "      <td>52.00</td>\n",
       "      <td>Sci&amp;Tech</td>\n",
       "      <td>No</td>\n",
       "      <td>66.0</td>\n",
       "      <td>Mkt&amp;HR</td>\n",
       "      <td>59.43</td>\n",
       "      <td>Not Placed</td>\n",
       "      <td>NaN</td>\n",
       "    </tr>\n",
       "    <tr>\n",
       "      <th>4</th>\n",
       "      <td>5</td>\n",
       "      <td>M</td>\n",
       "      <td>85.80</td>\n",
       "      <td>Central</td>\n",
       "      <td>73.60</td>\n",
       "      <td>Central</td>\n",
       "      <td>Commerce</td>\n",
       "      <td>73.30</td>\n",
       "      <td>Comm&amp;Mgmt</td>\n",
       "      <td>No</td>\n",
       "      <td>96.8</td>\n",
       "      <td>Mkt&amp;Fin</td>\n",
       "      <td>55.50</td>\n",
       "      <td>Placed</td>\n",
       "      <td>425000.0</td>\n",
       "    </tr>\n",
       "  </tbody>\n",
       "</table>\n",
       "</div>"
      ],
      "text/plain": [
       "   sl_no gender  ssc_p    ssc_b  hsc_p    hsc_b     hsc_s  degree_p  \\\n",
       "0      1      M  67.00   Others  91.00   Others  Commerce     58.00   \n",
       "1      2      M  79.33  Central  78.33   Others   Science     77.48   \n",
       "2      3      M  65.00  Central  68.00  Central      Arts     64.00   \n",
       "3      4      M  56.00  Central  52.00  Central   Science     52.00   \n",
       "4      5      M  85.80  Central  73.60  Central  Commerce     73.30   \n",
       "\n",
       "    degree_t workex  etest_p specialisation  mba_p      status    salary  \n",
       "0   Sci&Tech     No     55.0         Mkt&HR  58.80      Placed  270000.0  \n",
       "1   Sci&Tech    Yes     86.5        Mkt&Fin  66.28      Placed  200000.0  \n",
       "2  Comm&Mgmt     No     75.0        Mkt&Fin  57.80      Placed  250000.0  \n",
       "3   Sci&Tech     No     66.0         Mkt&HR  59.43  Not Placed       NaN  \n",
       "4  Comm&Mgmt     No     96.8        Mkt&Fin  55.50      Placed  425000.0  "
      ]
     },
     "execution_count": 1,
     "metadata": {},
     "output_type": "execute_result"
    }
   ],
   "source": [
    "import numpy as np\n",
    "import pandas as pd\n",
    "\n",
    "data=pd.read_csv(\"./Placement_Data_Full_Class.csv\")\n",
    "data.head()\n"
   ]
  },
  {
   "cell_type": "code",
   "execution_count": 2,
   "id": "c9445836-2885-4853-8274-2684313fe1e1",
   "metadata": {},
   "outputs": [],
   "source": [
    "data.drop(['ssc_b','hsc_b','hsc_s','degree_t','salary'],axis=1,inplace=True)"
   ]
  },
  {
   "cell_type": "code",
   "execution_count": null,
   "id": "f5dde7fa-c6e0-435c-a7a5-c887c5a5b9ea",
   "metadata": {},
   "outputs": [],
   "source": []
  },
  {
   "cell_type": "code",
   "execution_count": 3,
   "id": "26744977-2853-4cd9-b5e5-71ea645a9196",
   "metadata": {},
   "outputs": [
    {
     "data": {
      "text/html": [
       "<div>\n",
       "<style scoped>\n",
       "    .dataframe tbody tr th:only-of-type {\n",
       "        vertical-align: middle;\n",
       "    }\n",
       "\n",
       "    .dataframe tbody tr th {\n",
       "        vertical-align: top;\n",
       "    }\n",
       "\n",
       "    .dataframe thead th {\n",
       "        text-align: right;\n",
       "    }\n",
       "</style>\n",
       "<table border=\"1\" class=\"dataframe\">\n",
       "  <thead>\n",
       "    <tr style=\"text-align: right;\">\n",
       "      <th></th>\n",
       "      <th>sl_no</th>\n",
       "      <th>gender</th>\n",
       "      <th>ssc_p</th>\n",
       "      <th>hsc_p</th>\n",
       "      <th>degree_p</th>\n",
       "      <th>workex</th>\n",
       "      <th>etest_p</th>\n",
       "      <th>specialisation</th>\n",
       "      <th>mba_p</th>\n",
       "      <th>status</th>\n",
       "    </tr>\n",
       "  </thead>\n",
       "  <tbody>\n",
       "    <tr>\n",
       "      <th>0</th>\n",
       "      <td>1</td>\n",
       "      <td>M</td>\n",
       "      <td>67.00</td>\n",
       "      <td>91.00</td>\n",
       "      <td>58.00</td>\n",
       "      <td>No</td>\n",
       "      <td>55.0</td>\n",
       "      <td>Mkt&amp;HR</td>\n",
       "      <td>58.80</td>\n",
       "      <td>Placed</td>\n",
       "    </tr>\n",
       "    <tr>\n",
       "      <th>1</th>\n",
       "      <td>2</td>\n",
       "      <td>M</td>\n",
       "      <td>79.33</td>\n",
       "      <td>78.33</td>\n",
       "      <td>77.48</td>\n",
       "      <td>Yes</td>\n",
       "      <td>86.5</td>\n",
       "      <td>Mkt&amp;Fin</td>\n",
       "      <td>66.28</td>\n",
       "      <td>Placed</td>\n",
       "    </tr>\n",
       "    <tr>\n",
       "      <th>2</th>\n",
       "      <td>3</td>\n",
       "      <td>M</td>\n",
       "      <td>65.00</td>\n",
       "      <td>68.00</td>\n",
       "      <td>64.00</td>\n",
       "      <td>No</td>\n",
       "      <td>75.0</td>\n",
       "      <td>Mkt&amp;Fin</td>\n",
       "      <td>57.80</td>\n",
       "      <td>Placed</td>\n",
       "    </tr>\n",
       "    <tr>\n",
       "      <th>3</th>\n",
       "      <td>4</td>\n",
       "      <td>M</td>\n",
       "      <td>56.00</td>\n",
       "      <td>52.00</td>\n",
       "      <td>52.00</td>\n",
       "      <td>No</td>\n",
       "      <td>66.0</td>\n",
       "      <td>Mkt&amp;HR</td>\n",
       "      <td>59.43</td>\n",
       "      <td>Not Placed</td>\n",
       "    </tr>\n",
       "    <tr>\n",
       "      <th>4</th>\n",
       "      <td>5</td>\n",
       "      <td>M</td>\n",
       "      <td>85.80</td>\n",
       "      <td>73.60</td>\n",
       "      <td>73.30</td>\n",
       "      <td>No</td>\n",
       "      <td>96.8</td>\n",
       "      <td>Mkt&amp;Fin</td>\n",
       "      <td>55.50</td>\n",
       "      <td>Placed</td>\n",
       "    </tr>\n",
       "  </tbody>\n",
       "</table>\n",
       "</div>"
      ],
      "text/plain": [
       "   sl_no gender  ssc_p  hsc_p  degree_p workex  etest_p specialisation  mba_p  \\\n",
       "0      1      M  67.00  91.00     58.00     No     55.0         Mkt&HR  58.80   \n",
       "1      2      M  79.33  78.33     77.48    Yes     86.5        Mkt&Fin  66.28   \n",
       "2      3      M  65.00  68.00     64.00     No     75.0        Mkt&Fin  57.80   \n",
       "3      4      M  56.00  52.00     52.00     No     66.0         Mkt&HR  59.43   \n",
       "4      5      M  85.80  73.60     73.30     No     96.8        Mkt&Fin  55.50   \n",
       "\n",
       "       status  \n",
       "0      Placed  \n",
       "1      Placed  \n",
       "2      Placed  \n",
       "3  Not Placed  \n",
       "4      Placed  "
      ]
     },
     "execution_count": 3,
     "metadata": {},
     "output_type": "execute_result"
    }
   ],
   "source": [
    "data.head()"
   ]
  },
  {
   "cell_type": "markdown",
   "id": "e4027cee-9951-4551-a53a-4641c4b9ca9b",
   "metadata": {},
   "source": [
    "# Checeking for missing values in each column"
   ]
  },
  {
   "cell_type": "markdown",
   "id": "598a3786-3fa4-4446-bcf7-47b645f411f0",
   "metadata": {},
   "source": [
    "data.isnull().sum()"
   ]
  },
  {
   "cell_type": "code",
   "execution_count": 4,
   "id": "4d4fa231-4f5f-4c92-8fa9-c681b10d1cfc",
   "metadata": {},
   "outputs": [],
   "source": [
    "# Preprocessing\n",
    "# 1.Encodeing\n",
    "# the gender we have both data (Male and Female ) as string so we need to change it\n",
    "# The Workex has Yes or not type data so we need to change it\n",
    "# specialization and  status are also string"
   ]
  },
  {
   "cell_type": "code",
   "execution_count": 5,
   "id": "dbcc8e1e-1bdd-4ba9-935a-aa76a445412e",
   "metadata": {},
   "outputs": [],
   "source": [
    "data['gender']=data.gender.map({\"M\":0,\"F\":1})\n",
    "data['workex']= data.workex.map({\"No\":0,'Yes':1})\n",
    "data['status']= data.status.map({\"Placed\":1,\"Not Placed\":0})\n",
    "data['specialisation']=data.specialisation.map({\"Mkt&Fin\":1,\"Mkt&HR\":0})"
   ]
  },
  {
   "cell_type": "code",
   "execution_count": 6,
   "id": "2ead2bc3-c7c5-4f5b-940b-e4184766a0a1",
   "metadata": {},
   "outputs": [
    {
     "data": {
      "text/html": [
       "<div>\n",
       "<style scoped>\n",
       "    .dataframe tbody tr th:only-of-type {\n",
       "        vertical-align: middle;\n",
       "    }\n",
       "\n",
       "    .dataframe tbody tr th {\n",
       "        vertical-align: top;\n",
       "    }\n",
       "\n",
       "    .dataframe thead th {\n",
       "        text-align: right;\n",
       "    }\n",
       "</style>\n",
       "<table border=\"1\" class=\"dataframe\">\n",
       "  <thead>\n",
       "    <tr style=\"text-align: right;\">\n",
       "      <th></th>\n",
       "      <th>sl_no</th>\n",
       "      <th>gender</th>\n",
       "      <th>ssc_p</th>\n",
       "      <th>hsc_p</th>\n",
       "      <th>degree_p</th>\n",
       "      <th>workex</th>\n",
       "      <th>etest_p</th>\n",
       "      <th>specialisation</th>\n",
       "      <th>mba_p</th>\n",
       "      <th>status</th>\n",
       "    </tr>\n",
       "  </thead>\n",
       "  <tbody>\n",
       "    <tr>\n",
       "      <th>0</th>\n",
       "      <td>1</td>\n",
       "      <td>0</td>\n",
       "      <td>67.00</td>\n",
       "      <td>91.00</td>\n",
       "      <td>58.00</td>\n",
       "      <td>0</td>\n",
       "      <td>55.0</td>\n",
       "      <td>0</td>\n",
       "      <td>58.80</td>\n",
       "      <td>1</td>\n",
       "    </tr>\n",
       "    <tr>\n",
       "      <th>1</th>\n",
       "      <td>2</td>\n",
       "      <td>0</td>\n",
       "      <td>79.33</td>\n",
       "      <td>78.33</td>\n",
       "      <td>77.48</td>\n",
       "      <td>1</td>\n",
       "      <td>86.5</td>\n",
       "      <td>1</td>\n",
       "      <td>66.28</td>\n",
       "      <td>1</td>\n",
       "    </tr>\n",
       "    <tr>\n",
       "      <th>2</th>\n",
       "      <td>3</td>\n",
       "      <td>0</td>\n",
       "      <td>65.00</td>\n",
       "      <td>68.00</td>\n",
       "      <td>64.00</td>\n",
       "      <td>0</td>\n",
       "      <td>75.0</td>\n",
       "      <td>1</td>\n",
       "      <td>57.80</td>\n",
       "      <td>1</td>\n",
       "    </tr>\n",
       "    <tr>\n",
       "      <th>3</th>\n",
       "      <td>4</td>\n",
       "      <td>0</td>\n",
       "      <td>56.00</td>\n",
       "      <td>52.00</td>\n",
       "      <td>52.00</td>\n",
       "      <td>0</td>\n",
       "      <td>66.0</td>\n",
       "      <td>0</td>\n",
       "      <td>59.43</td>\n",
       "      <td>0</td>\n",
       "    </tr>\n",
       "    <tr>\n",
       "      <th>4</th>\n",
       "      <td>5</td>\n",
       "      <td>0</td>\n",
       "      <td>85.80</td>\n",
       "      <td>73.60</td>\n",
       "      <td>73.30</td>\n",
       "      <td>0</td>\n",
       "      <td>96.8</td>\n",
       "      <td>1</td>\n",
       "      <td>55.50</td>\n",
       "      <td>1</td>\n",
       "    </tr>\n",
       "    <tr>\n",
       "      <th>...</th>\n",
       "      <td>...</td>\n",
       "      <td>...</td>\n",
       "      <td>...</td>\n",
       "      <td>...</td>\n",
       "      <td>...</td>\n",
       "      <td>...</td>\n",
       "      <td>...</td>\n",
       "      <td>...</td>\n",
       "      <td>...</td>\n",
       "      <td>...</td>\n",
       "    </tr>\n",
       "    <tr>\n",
       "      <th>210</th>\n",
       "      <td>211</td>\n",
       "      <td>0</td>\n",
       "      <td>80.60</td>\n",
       "      <td>82.00</td>\n",
       "      <td>77.60</td>\n",
       "      <td>0</td>\n",
       "      <td>91.0</td>\n",
       "      <td>1</td>\n",
       "      <td>74.49</td>\n",
       "      <td>1</td>\n",
       "    </tr>\n",
       "    <tr>\n",
       "      <th>211</th>\n",
       "      <td>212</td>\n",
       "      <td>0</td>\n",
       "      <td>58.00</td>\n",
       "      <td>60.00</td>\n",
       "      <td>72.00</td>\n",
       "      <td>0</td>\n",
       "      <td>74.0</td>\n",
       "      <td>1</td>\n",
       "      <td>53.62</td>\n",
       "      <td>1</td>\n",
       "    </tr>\n",
       "    <tr>\n",
       "      <th>212</th>\n",
       "      <td>213</td>\n",
       "      <td>0</td>\n",
       "      <td>67.00</td>\n",
       "      <td>67.00</td>\n",
       "      <td>73.00</td>\n",
       "      <td>1</td>\n",
       "      <td>59.0</td>\n",
       "      <td>1</td>\n",
       "      <td>69.72</td>\n",
       "      <td>1</td>\n",
       "    </tr>\n",
       "    <tr>\n",
       "      <th>213</th>\n",
       "      <td>214</td>\n",
       "      <td>1</td>\n",
       "      <td>74.00</td>\n",
       "      <td>66.00</td>\n",
       "      <td>58.00</td>\n",
       "      <td>0</td>\n",
       "      <td>70.0</td>\n",
       "      <td>0</td>\n",
       "      <td>60.23</td>\n",
       "      <td>1</td>\n",
       "    </tr>\n",
       "    <tr>\n",
       "      <th>214</th>\n",
       "      <td>215</td>\n",
       "      <td>0</td>\n",
       "      <td>62.00</td>\n",
       "      <td>58.00</td>\n",
       "      <td>53.00</td>\n",
       "      <td>0</td>\n",
       "      <td>89.0</td>\n",
       "      <td>0</td>\n",
       "      <td>60.22</td>\n",
       "      <td>0</td>\n",
       "    </tr>\n",
       "  </tbody>\n",
       "</table>\n",
       "<p>215 rows × 10 columns</p>\n",
       "</div>"
      ],
      "text/plain": [
       "     sl_no  gender  ssc_p  hsc_p  degree_p  workex  etest_p  specialisation  \\\n",
       "0        1       0  67.00  91.00     58.00       0     55.0               0   \n",
       "1        2       0  79.33  78.33     77.48       1     86.5               1   \n",
       "2        3       0  65.00  68.00     64.00       0     75.0               1   \n",
       "3        4       0  56.00  52.00     52.00       0     66.0               0   \n",
       "4        5       0  85.80  73.60     73.30       0     96.8               1   \n",
       "..     ...     ...    ...    ...       ...     ...      ...             ...   \n",
       "210    211       0  80.60  82.00     77.60       0     91.0               1   \n",
       "211    212       0  58.00  60.00     72.00       0     74.0               1   \n",
       "212    213       0  67.00  67.00     73.00       1     59.0               1   \n",
       "213    214       1  74.00  66.00     58.00       0     70.0               0   \n",
       "214    215       0  62.00  58.00     53.00       0     89.0               0   \n",
       "\n",
       "     mba_p  status  \n",
       "0    58.80       1  \n",
       "1    66.28       1  \n",
       "2    57.80       1  \n",
       "3    59.43       0  \n",
       "4    55.50       1  \n",
       "..     ...     ...  \n",
       "210  74.49       1  \n",
       "211  53.62       1  \n",
       "212  69.72       1  \n",
       "213  60.23       1  \n",
       "214  60.22       0  \n",
       "\n",
       "[215 rows x 10 columns]"
      ]
     },
     "execution_count": 6,
     "metadata": {},
     "output_type": "execute_result"
    }
   ],
   "source": [
    "data"
   ]
  },
  {
   "cell_type": "markdown",
   "id": "76d1668e-dfdc-410f-a698-b9c0ba9d6291",
   "metadata": {},
   "source": [
    "# Balance Dataset"
   ]
  },
  {
   "cell_type": "code",
   "execution_count": 7,
   "id": "77abae39-7c67-452e-9708-dfc54173a743",
   "metadata": {},
   "outputs": [
    {
     "data": {
      "text/plain": [
       "status\n",
       "1    148\n",
       "0     67\n",
       "Name: count, dtype: int64"
      ]
     },
     "execution_count": 7,
     "metadata": {},
     "output_type": "execute_result"
    }
   ],
   "source": [
    "data['status'].value_counts()"
   ]
  },
  {
   "cell_type": "code",
   "execution_count": 59,
   "id": "751dd88d-8958-4ad6-8b3f-62503e71d8f9",
   "metadata": {},
   "outputs": [
    {
     "data": {
      "text/plain": [
       "0"
      ]
     },
     "execution_count": 59,
     "metadata": {},
     "output_type": "execute_result"
    }
   ],
   "source": [
    "data.duplicated().sum()  # No duplicate rows"
   ]
  },
  {
   "cell_type": "code",
   "execution_count": 60,
   "id": "1aff0a62-dbc7-4d22-a08b-bad9bdc1d65e",
   "metadata": {},
   "outputs": [
    {
     "data": {
      "text/html": [
       "<div>\n",
       "<style scoped>\n",
       "    .dataframe tbody tr th:only-of-type {\n",
       "        vertical-align: middle;\n",
       "    }\n",
       "\n",
       "    .dataframe tbody tr th {\n",
       "        vertical-align: top;\n",
       "    }\n",
       "\n",
       "    .dataframe thead th {\n",
       "        text-align: right;\n",
       "    }\n",
       "</style>\n",
       "<table border=\"1\" class=\"dataframe\">\n",
       "  <thead>\n",
       "    <tr style=\"text-align: right;\">\n",
       "      <th></th>\n",
       "      <th>sl_no</th>\n",
       "      <th>gender</th>\n",
       "      <th>ssc_p</th>\n",
       "      <th>hsc_p</th>\n",
       "      <th>degree_p</th>\n",
       "      <th>workex</th>\n",
       "      <th>etest_p</th>\n",
       "      <th>specialisation</th>\n",
       "      <th>mba_p</th>\n",
       "      <th>status</th>\n",
       "    </tr>\n",
       "  </thead>\n",
       "  <tbody>\n",
       "    <tr>\n",
       "      <th>0</th>\n",
       "      <td>1</td>\n",
       "      <td>0</td>\n",
       "      <td>67.00</td>\n",
       "      <td>91.00</td>\n",
       "      <td>58.00</td>\n",
       "      <td>0</td>\n",
       "      <td>55.0</td>\n",
       "      <td>0</td>\n",
       "      <td>58.80</td>\n",
       "      <td>1</td>\n",
       "    </tr>\n",
       "    <tr>\n",
       "      <th>1</th>\n",
       "      <td>2</td>\n",
       "      <td>0</td>\n",
       "      <td>79.33</td>\n",
       "      <td>78.33</td>\n",
       "      <td>77.48</td>\n",
       "      <td>1</td>\n",
       "      <td>86.5</td>\n",
       "      <td>1</td>\n",
       "      <td>66.28</td>\n",
       "      <td>1</td>\n",
       "    </tr>\n",
       "    <tr>\n",
       "      <th>2</th>\n",
       "      <td>3</td>\n",
       "      <td>0</td>\n",
       "      <td>65.00</td>\n",
       "      <td>68.00</td>\n",
       "      <td>64.00</td>\n",
       "      <td>0</td>\n",
       "      <td>75.0</td>\n",
       "      <td>1</td>\n",
       "      <td>57.80</td>\n",
       "      <td>1</td>\n",
       "    </tr>\n",
       "    <tr>\n",
       "      <th>3</th>\n",
       "      <td>4</td>\n",
       "      <td>0</td>\n",
       "      <td>56.00</td>\n",
       "      <td>52.00</td>\n",
       "      <td>52.00</td>\n",
       "      <td>0</td>\n",
       "      <td>66.0</td>\n",
       "      <td>0</td>\n",
       "      <td>59.43</td>\n",
       "      <td>0</td>\n",
       "    </tr>\n",
       "    <tr>\n",
       "      <th>4</th>\n",
       "      <td>5</td>\n",
       "      <td>0</td>\n",
       "      <td>85.80</td>\n",
       "      <td>73.60</td>\n",
       "      <td>73.30</td>\n",
       "      <td>0</td>\n",
       "      <td>96.8</td>\n",
       "      <td>1</td>\n",
       "      <td>55.50</td>\n",
       "      <td>1</td>\n",
       "    </tr>\n",
       "    <tr>\n",
       "      <th>...</th>\n",
       "      <td>...</td>\n",
       "      <td>...</td>\n",
       "      <td>...</td>\n",
       "      <td>...</td>\n",
       "      <td>...</td>\n",
       "      <td>...</td>\n",
       "      <td>...</td>\n",
       "      <td>...</td>\n",
       "      <td>...</td>\n",
       "      <td>...</td>\n",
       "    </tr>\n",
       "    <tr>\n",
       "      <th>210</th>\n",
       "      <td>211</td>\n",
       "      <td>0</td>\n",
       "      <td>80.60</td>\n",
       "      <td>82.00</td>\n",
       "      <td>77.60</td>\n",
       "      <td>0</td>\n",
       "      <td>91.0</td>\n",
       "      <td>1</td>\n",
       "      <td>74.49</td>\n",
       "      <td>1</td>\n",
       "    </tr>\n",
       "    <tr>\n",
       "      <th>211</th>\n",
       "      <td>212</td>\n",
       "      <td>0</td>\n",
       "      <td>58.00</td>\n",
       "      <td>60.00</td>\n",
       "      <td>72.00</td>\n",
       "      <td>0</td>\n",
       "      <td>74.0</td>\n",
       "      <td>1</td>\n",
       "      <td>53.62</td>\n",
       "      <td>1</td>\n",
       "    </tr>\n",
       "    <tr>\n",
       "      <th>212</th>\n",
       "      <td>213</td>\n",
       "      <td>0</td>\n",
       "      <td>67.00</td>\n",
       "      <td>67.00</td>\n",
       "      <td>73.00</td>\n",
       "      <td>1</td>\n",
       "      <td>59.0</td>\n",
       "      <td>1</td>\n",
       "      <td>69.72</td>\n",
       "      <td>1</td>\n",
       "    </tr>\n",
       "    <tr>\n",
       "      <th>213</th>\n",
       "      <td>214</td>\n",
       "      <td>1</td>\n",
       "      <td>74.00</td>\n",
       "      <td>66.00</td>\n",
       "      <td>58.00</td>\n",
       "      <td>0</td>\n",
       "      <td>70.0</td>\n",
       "      <td>0</td>\n",
       "      <td>60.23</td>\n",
       "      <td>1</td>\n",
       "    </tr>\n",
       "    <tr>\n",
       "      <th>214</th>\n",
       "      <td>215</td>\n",
       "      <td>0</td>\n",
       "      <td>62.00</td>\n",
       "      <td>58.00</td>\n",
       "      <td>53.00</td>\n",
       "      <td>0</td>\n",
       "      <td>89.0</td>\n",
       "      <td>0</td>\n",
       "      <td>60.22</td>\n",
       "      <td>0</td>\n",
       "    </tr>\n",
       "  </tbody>\n",
       "</table>\n",
       "<p>215 rows × 10 columns</p>\n",
       "</div>"
      ],
      "text/plain": [
       "     sl_no  gender  ssc_p  hsc_p  degree_p  workex  etest_p  specialisation  \\\n",
       "0        1       0  67.00  91.00     58.00       0     55.0               0   \n",
       "1        2       0  79.33  78.33     77.48       1     86.5               1   \n",
       "2        3       0  65.00  68.00     64.00       0     75.0               1   \n",
       "3        4       0  56.00  52.00     52.00       0     66.0               0   \n",
       "4        5       0  85.80  73.60     73.30       0     96.8               1   \n",
       "..     ...     ...    ...    ...       ...     ...      ...             ...   \n",
       "210    211       0  80.60  82.00     77.60       0     91.0               1   \n",
       "211    212       0  58.00  60.00     72.00       0     74.0               1   \n",
       "212    213       0  67.00  67.00     73.00       1     59.0               1   \n",
       "213    214       1  74.00  66.00     58.00       0     70.0               0   \n",
       "214    215       0  62.00  58.00     53.00       0     89.0               0   \n",
       "\n",
       "     mba_p  status  \n",
       "0    58.80       1  \n",
       "1    66.28       1  \n",
       "2    57.80       1  \n",
       "3    59.43       0  \n",
       "4    55.50       1  \n",
       "..     ...     ...  \n",
       "210  74.49       1  \n",
       "211  53.62       1  \n",
       "212  69.72       1  \n",
       "213  60.23       1  \n",
       "214  60.22       0  \n",
       "\n",
       "[215 rows x 10 columns]"
      ]
     },
     "execution_count": 60,
     "metadata": {},
     "output_type": "execute_result"
    }
   ],
   "source": [
    "data"
   ]
  },
  {
   "cell_type": "code",
   "execution_count": 9,
   "id": "fb452e23-8750-48f5-97cc-3001722c9770",
   "metadata": {},
   "outputs": [],
   "source": [
    "# so we can see that the status has 1 for 148 and 0 for 67 so the data is not balanced that may cause some incompitable issues"
   ]
  },
  {
   "cell_type": "code",
   "execution_count": 10,
   "id": "93d09ffa-3e3d-4962-9590-39f4e066d310",
   "metadata": {},
   "outputs": [],
   "source": [
    "from sklearn.utils import resample"
   ]
  },
  {
   "cell_type": "code",
   "execution_count": 11,
   "id": "f6c2f8fb-3d21-4539-a523-20d9326081ef",
   "metadata": {},
   "outputs": [],
   "source": [
    "#separate majority and minority classes\n",
    "data_majority = data[data['status']==1]\n",
    "data_minority =data[data['status']==0]"
   ]
  },
  {
   "cell_type": "code",
   "execution_count": 12,
   "id": "4ac1c150-7aa3-444a-8e9b-74bf412dc610",
   "metadata": {},
   "outputs": [],
   "source": [
    "data_minority_upsampled=resample(data_minority,\n",
    "                                 replace=True,n_samples=len(data_majority),random_state=42)\n",
    "#combining majority class with upsampled minority class\n",
    "balanced_data=pd.concat([data_majority,data_minority_upsampled])"
   ]
  },
  {
   "cell_type": "code",
   "execution_count": 13,
   "id": "f090962e-2abb-451e-b1cd-4d31565a5800",
   "metadata": {},
   "outputs": [
    {
     "data": {
      "text/plain": [
       "status\n",
       "1    148\n",
       "0    148\n",
       "Name: count, dtype: int64"
      ]
     },
     "execution_count": 13,
     "metadata": {},
     "output_type": "execute_result"
    }
   ],
   "source": [
    "balanced_data['status'].value_counts()\n"
   ]
  },
  {
   "cell_type": "code",
   "execution_count": 14,
   "id": "4126d1a8-4f59-4b59-a0a6-c0296c5297a3",
   "metadata": {},
   "outputs": [
    {
     "data": {
      "text/html": [
       "<div>\n",
       "<style scoped>\n",
       "    .dataframe tbody tr th:only-of-type {\n",
       "        vertical-align: middle;\n",
       "    }\n",
       "\n",
       "    .dataframe tbody tr th {\n",
       "        vertical-align: top;\n",
       "    }\n",
       "\n",
       "    .dataframe thead th {\n",
       "        text-align: right;\n",
       "    }\n",
       "</style>\n",
       "<table border=\"1\" class=\"dataframe\">\n",
       "  <thead>\n",
       "    <tr style=\"text-align: right;\">\n",
       "      <th></th>\n",
       "      <th>sl_no</th>\n",
       "      <th>gender</th>\n",
       "      <th>ssc_p</th>\n",
       "      <th>hsc_p</th>\n",
       "      <th>degree_p</th>\n",
       "      <th>workex</th>\n",
       "      <th>etest_p</th>\n",
       "      <th>specialisation</th>\n",
       "      <th>mba_p</th>\n",
       "      <th>status</th>\n",
       "    </tr>\n",
       "  </thead>\n",
       "  <tbody>\n",
       "    <tr>\n",
       "      <th>0</th>\n",
       "      <td>1</td>\n",
       "      <td>0</td>\n",
       "      <td>67.00</td>\n",
       "      <td>91.00</td>\n",
       "      <td>58.00</td>\n",
       "      <td>0</td>\n",
       "      <td>55.00</td>\n",
       "      <td>0</td>\n",
       "      <td>58.80</td>\n",
       "      <td>1</td>\n",
       "    </tr>\n",
       "    <tr>\n",
       "      <th>1</th>\n",
       "      <td>2</td>\n",
       "      <td>0</td>\n",
       "      <td>79.33</td>\n",
       "      <td>78.33</td>\n",
       "      <td>77.48</td>\n",
       "      <td>1</td>\n",
       "      <td>86.50</td>\n",
       "      <td>1</td>\n",
       "      <td>66.28</td>\n",
       "      <td>1</td>\n",
       "    </tr>\n",
       "    <tr>\n",
       "      <th>2</th>\n",
       "      <td>3</td>\n",
       "      <td>0</td>\n",
       "      <td>65.00</td>\n",
       "      <td>68.00</td>\n",
       "      <td>64.00</td>\n",
       "      <td>0</td>\n",
       "      <td>75.00</td>\n",
       "      <td>1</td>\n",
       "      <td>57.80</td>\n",
       "      <td>1</td>\n",
       "    </tr>\n",
       "    <tr>\n",
       "      <th>4</th>\n",
       "      <td>5</td>\n",
       "      <td>0</td>\n",
       "      <td>85.80</td>\n",
       "      <td>73.60</td>\n",
       "      <td>73.30</td>\n",
       "      <td>0</td>\n",
       "      <td>96.80</td>\n",
       "      <td>1</td>\n",
       "      <td>55.50</td>\n",
       "      <td>1</td>\n",
       "    </tr>\n",
       "    <tr>\n",
       "      <th>7</th>\n",
       "      <td>8</td>\n",
       "      <td>0</td>\n",
       "      <td>82.00</td>\n",
       "      <td>64.00</td>\n",
       "      <td>66.00</td>\n",
       "      <td>1</td>\n",
       "      <td>67.00</td>\n",
       "      <td>1</td>\n",
       "      <td>62.14</td>\n",
       "      <td>1</td>\n",
       "    </tr>\n",
       "    <tr>\n",
       "      <th>...</th>\n",
       "      <td>...</td>\n",
       "      <td>...</td>\n",
       "      <td>...</td>\n",
       "      <td>...</td>\n",
       "      <td>...</td>\n",
       "      <td>...</td>\n",
       "      <td>...</td>\n",
       "      <td>...</td>\n",
       "      <td>...</td>\n",
       "      <td>...</td>\n",
       "    </tr>\n",
       "    <tr>\n",
       "      <th>100</th>\n",
       "      <td>101</td>\n",
       "      <td>1</td>\n",
       "      <td>45.00</td>\n",
       "      <td>57.00</td>\n",
       "      <td>58.00</td>\n",
       "      <td>1</td>\n",
       "      <td>56.39</td>\n",
       "      <td>0</td>\n",
       "      <td>64.95</td>\n",
       "      <td>0</td>\n",
       "    </tr>\n",
       "    <tr>\n",
       "      <th>173</th>\n",
       "      <td>174</td>\n",
       "      <td>1</td>\n",
       "      <td>52.00</td>\n",
       "      <td>52.00</td>\n",
       "      <td>55.00</td>\n",
       "      <td>0</td>\n",
       "      <td>67.00</td>\n",
       "      <td>0</td>\n",
       "      <td>59.32</td>\n",
       "      <td>0</td>\n",
       "    </tr>\n",
       "    <tr>\n",
       "      <th>194</th>\n",
       "      <td>195</td>\n",
       "      <td>0</td>\n",
       "      <td>52.00</td>\n",
       "      <td>55.00</td>\n",
       "      <td>56.30</td>\n",
       "      <td>0</td>\n",
       "      <td>59.00</td>\n",
       "      <td>1</td>\n",
       "      <td>64.74</td>\n",
       "      <td>0</td>\n",
       "    </tr>\n",
       "    <tr>\n",
       "      <th>186</th>\n",
       "      <td>187</td>\n",
       "      <td>1</td>\n",
       "      <td>52.00</td>\n",
       "      <td>64.00</td>\n",
       "      <td>61.00</td>\n",
       "      <td>0</td>\n",
       "      <td>55.00</td>\n",
       "      <td>1</td>\n",
       "      <td>62.93</td>\n",
       "      <td>0</td>\n",
       "    </tr>\n",
       "    <tr>\n",
       "      <th>173</th>\n",
       "      <td>174</td>\n",
       "      <td>1</td>\n",
       "      <td>52.00</td>\n",
       "      <td>52.00</td>\n",
       "      <td>55.00</td>\n",
       "      <td>0</td>\n",
       "      <td>67.00</td>\n",
       "      <td>0</td>\n",
       "      <td>59.32</td>\n",
       "      <td>0</td>\n",
       "    </tr>\n",
       "  </tbody>\n",
       "</table>\n",
       "<p>296 rows × 10 columns</p>\n",
       "</div>"
      ],
      "text/plain": [
       "     sl_no  gender  ssc_p  hsc_p  degree_p  workex  etest_p  specialisation  \\\n",
       "0        1       0  67.00  91.00     58.00       0    55.00               0   \n",
       "1        2       0  79.33  78.33     77.48       1    86.50               1   \n",
       "2        3       0  65.00  68.00     64.00       0    75.00               1   \n",
       "4        5       0  85.80  73.60     73.30       0    96.80               1   \n",
       "7        8       0  82.00  64.00     66.00       1    67.00               1   \n",
       "..     ...     ...    ...    ...       ...     ...      ...             ...   \n",
       "100    101       1  45.00  57.00     58.00       1    56.39               0   \n",
       "173    174       1  52.00  52.00     55.00       0    67.00               0   \n",
       "194    195       0  52.00  55.00     56.30       0    59.00               1   \n",
       "186    187       1  52.00  64.00     61.00       0    55.00               1   \n",
       "173    174       1  52.00  52.00     55.00       0    67.00               0   \n",
       "\n",
       "     mba_p  status  \n",
       "0    58.80       1  \n",
       "1    66.28       1  \n",
       "2    57.80       1  \n",
       "4    55.50       1  \n",
       "7    62.14       1  \n",
       "..     ...     ...  \n",
       "100  64.95       0  \n",
       "173  59.32       0  \n",
       "194  64.74       0  \n",
       "186  62.93       0  \n",
       "173  59.32       0  \n",
       "\n",
       "[296 rows x 10 columns]"
      ]
     },
     "execution_count": 14,
     "metadata": {},
     "output_type": "execute_result"
    }
   ],
   "source": [
    "balanced_data"
   ]
  },
  {
   "cell_type": "code",
   "execution_count": 57,
   "id": "be71fed9-03be-495c-9916-9e6752f86358",
   "metadata": {},
   "outputs": [
    {
     "data": {
      "text/plain": [
       "91"
      ]
     },
     "execution_count": 57,
     "metadata": {},
     "output_type": "execute_result"
    }
   ],
   "source": [
    "balanced_data.duplicated().sum()  # The duplicated values are the balanceing dataset rows"
   ]
  },
  {
   "cell_type": "code",
   "execution_count": 15,
   "id": "16fed20d-a50f-4cbd-85c4-02df012d182f",
   "metadata": {},
   "outputs": [
    {
     "data": {
      "text/plain": [
       "sl_no             0\n",
       "gender            0\n",
       "ssc_p             0\n",
       "hsc_p             0\n",
       "degree_p          0\n",
       "workex            0\n",
       "etest_p           0\n",
       "specialisation    0\n",
       "mba_p             0\n",
       "status            0\n",
       "dtype: int64"
      ]
     },
     "execution_count": 15,
     "metadata": {},
     "output_type": "execute_result"
    }
   ],
   "source": [
    "balanced_data.isnull().sum()"
   ]
  },
  {
   "cell_type": "code",
   "execution_count": 16,
   "id": "d52b0241-54e2-4b5f-8f7b-6c93c69c5c89",
   "metadata": {},
   "outputs": [],
   "source": [
    "# so basically by above step of value count we have counted the values "
   ]
  },
  {
   "cell_type": "markdown",
   "id": "3a528d15-3a18-4126-be5f-51ccc56ee9b6",
   "metadata": {},
   "source": [
    "# Train Test Split"
   ]
  },
  {
   "cell_type": "code",
   "execution_count": 17,
   "id": "afb8c19f-f5f6-4ff5-8c2c-12f423ac5766",
   "metadata": {},
   "outputs": [],
   "source": [
    "# Separate feature and Target\n",
    "X = balanced_data.copy().drop('status',axis=1)  #input column goes to x and tearget columns goes to y\n",
    "Y = balanced_data['status'] # stattus is the main attribute to decide (if status is 1 than he is eligible and if status is 0 than he is not eligible)"
   ]
  },
  {
   "cell_type": "code",
   "execution_count": 18,
   "id": "01ff15a0-9602-4cb9-a3ee-60d0aaaac8b5",
   "metadata": {},
   "outputs": [
    {
     "data": {
      "text/plain": [
       "((207, 9), (207,), (89, 9), (89,))"
      ]
     },
     "execution_count": 18,
     "metadata": {},
     "output_type": "execute_result"
    }
   ],
   "source": [
    "#Train Test Split\n",
    "from sklearn.model_selection import train_test_split\n",
    "\n",
    "X_train,X_test,Y_train,Y_test = train_test_split(X,Y,test_size=0.3,random_state=42)\n",
    "X_train.shape,Y_train.shape,X_test.shape,Y_test.shape"
   ]
  },
  {
   "cell_type": "markdown",
   "id": "a8b14463-99b7-4429-a73c-553b60b1381c",
   "metadata": {},
   "source": [
    "# Feature Scaling"
   ]
  },
  {
   "cell_type": "code",
   "execution_count": 19,
   "id": "45a0d186-9ad3-44bb-846d-b62adc531527",
   "metadata": {},
   "outputs": [
    {
     "data": {
      "text/html": [
       "<div>\n",
       "<style scoped>\n",
       "    .dataframe tbody tr th:only-of-type {\n",
       "        vertical-align: middle;\n",
       "    }\n",
       "\n",
       "    .dataframe tbody tr th {\n",
       "        vertical-align: top;\n",
       "    }\n",
       "\n",
       "    .dataframe thead th {\n",
       "        text-align: right;\n",
       "    }\n",
       "</style>\n",
       "<table border=\"1\" class=\"dataframe\">\n",
       "  <thead>\n",
       "    <tr style=\"text-align: right;\">\n",
       "      <th></th>\n",
       "      <th>sl_no</th>\n",
       "      <th>gender</th>\n",
       "      <th>ssc_p</th>\n",
       "      <th>hsc_p</th>\n",
       "      <th>degree_p</th>\n",
       "      <th>workex</th>\n",
       "      <th>etest_p</th>\n",
       "      <th>specialisation</th>\n",
       "      <th>mba_p</th>\n",
       "    </tr>\n",
       "  </thead>\n",
       "  <tbody>\n",
       "    <tr>\n",
       "      <th>101</th>\n",
       "      <td>102</td>\n",
       "      <td>0</td>\n",
       "      <td>63.0</td>\n",
       "      <td>72.0</td>\n",
       "      <td>68.00</td>\n",
       "      <td>0</td>\n",
       "      <td>78.00</td>\n",
       "      <td>0</td>\n",
       "      <td>60.44</td>\n",
       "    </tr>\n",
       "    <tr>\n",
       "      <th>158</th>\n",
       "      <td>159</td>\n",
       "      <td>0</td>\n",
       "      <td>67.0</td>\n",
       "      <td>63.0</td>\n",
       "      <td>64.00</td>\n",
       "      <td>0</td>\n",
       "      <td>60.00</td>\n",
       "      <td>1</td>\n",
       "      <td>61.87</td>\n",
       "    </tr>\n",
       "    <tr>\n",
       "      <th>65</th>\n",
       "      <td>66</td>\n",
       "      <td>0</td>\n",
       "      <td>54.0</td>\n",
       "      <td>47.0</td>\n",
       "      <td>57.00</td>\n",
       "      <td>0</td>\n",
       "      <td>89.69</td>\n",
       "      <td>0</td>\n",
       "      <td>57.10</td>\n",
       "    </tr>\n",
       "    <tr>\n",
       "      <th>180</th>\n",
       "      <td>181</td>\n",
       "      <td>0</td>\n",
       "      <td>65.0</td>\n",
       "      <td>71.5</td>\n",
       "      <td>62.80</td>\n",
       "      <td>1</td>\n",
       "      <td>57.00</td>\n",
       "      <td>1</td>\n",
       "      <td>56.60</td>\n",
       "    </tr>\n",
       "    <tr>\n",
       "      <th>206</th>\n",
       "      <td>207</td>\n",
       "      <td>0</td>\n",
       "      <td>41.0</td>\n",
       "      <td>42.0</td>\n",
       "      <td>60.00</td>\n",
       "      <td>0</td>\n",
       "      <td>97.00</td>\n",
       "      <td>1</td>\n",
       "      <td>53.39</td>\n",
       "    </tr>\n",
       "    <tr>\n",
       "      <th>...</th>\n",
       "      <td>...</td>\n",
       "      <td>...</td>\n",
       "      <td>...</td>\n",
       "      <td>...</td>\n",
       "      <td>...</td>\n",
       "      <td>...</td>\n",
       "      <td>...</td>\n",
       "      <td>...</td>\n",
       "      <td>...</td>\n",
       "    </tr>\n",
       "    <tr>\n",
       "      <th>175</th>\n",
       "      <td>176</td>\n",
       "      <td>0</td>\n",
       "      <td>63.0</td>\n",
       "      <td>62.0</td>\n",
       "      <td>65.00</td>\n",
       "      <td>0</td>\n",
       "      <td>87.50</td>\n",
       "      <td>0</td>\n",
       "      <td>60.69</td>\n",
       "    </tr>\n",
       "    <tr>\n",
       "      <th>103</th>\n",
       "      <td>104</td>\n",
       "      <td>0</td>\n",
       "      <td>73.0</td>\n",
       "      <td>78.0</td>\n",
       "      <td>73.00</td>\n",
       "      <td>1</td>\n",
       "      <td>85.00</td>\n",
       "      <td>0</td>\n",
       "      <td>65.83</td>\n",
       "    </tr>\n",
       "    <tr>\n",
       "      <th>147</th>\n",
       "      <td>148</td>\n",
       "      <td>0</td>\n",
       "      <td>70.0</td>\n",
       "      <td>74.0</td>\n",
       "      <td>65.00</td>\n",
       "      <td>0</td>\n",
       "      <td>83.00</td>\n",
       "      <td>1</td>\n",
       "      <td>62.28</td>\n",
       "    </tr>\n",
       "    <tr>\n",
       "      <th>194</th>\n",
       "      <td>195</td>\n",
       "      <td>0</td>\n",
       "      <td>52.0</td>\n",
       "      <td>55.0</td>\n",
       "      <td>56.30</td>\n",
       "      <td>0</td>\n",
       "      <td>59.00</td>\n",
       "      <td>1</td>\n",
       "      <td>64.74</td>\n",
       "    </tr>\n",
       "    <tr>\n",
       "      <th>142</th>\n",
       "      <td>143</td>\n",
       "      <td>0</td>\n",
       "      <td>85.0</td>\n",
       "      <td>60.0</td>\n",
       "      <td>73.43</td>\n",
       "      <td>1</td>\n",
       "      <td>60.00</td>\n",
       "      <td>1</td>\n",
       "      <td>61.29</td>\n",
       "    </tr>\n",
       "  </tbody>\n",
       "</table>\n",
       "<p>207 rows × 9 columns</p>\n",
       "</div>"
      ],
      "text/plain": [
       "     sl_no  gender  ssc_p  hsc_p  degree_p  workex  etest_p  specialisation  \\\n",
       "101    102       0   63.0   72.0     68.00       0    78.00               0   \n",
       "158    159       0   67.0   63.0     64.00       0    60.00               1   \n",
       "65      66       0   54.0   47.0     57.00       0    89.69               0   \n",
       "180    181       0   65.0   71.5     62.80       1    57.00               1   \n",
       "206    207       0   41.0   42.0     60.00       0    97.00               1   \n",
       "..     ...     ...    ...    ...       ...     ...      ...             ...   \n",
       "175    176       0   63.0   62.0     65.00       0    87.50               0   \n",
       "103    104       0   73.0   78.0     73.00       1    85.00               0   \n",
       "147    148       0   70.0   74.0     65.00       0    83.00               1   \n",
       "194    195       0   52.0   55.0     56.30       0    59.00               1   \n",
       "142    143       0   85.0   60.0     73.43       1    60.00               1   \n",
       "\n",
       "     mba_p  \n",
       "101  60.44  \n",
       "158  61.87  \n",
       "65   57.10  \n",
       "180  56.60  \n",
       "206  53.39  \n",
       "..     ...  \n",
       "175  60.69  \n",
       "103  65.83  \n",
       "147  62.28  \n",
       "194  64.74  \n",
       "142  61.29  \n",
       "\n",
       "[207 rows x 9 columns]"
      ]
     },
     "execution_count": 19,
     "metadata": {},
     "output_type": "execute_result"
    }
   ],
   "source": [
    "# if the values in the columns has to be brought in a particular range of 0 or 1 than that is known as feature scaling\n",
    "# nedded becuase we can see that the hsc_p has variation in values then our model would give inconsistant result and to overcome such issues we use feature scaling.\n",
    "X_train"
   ]
  },
  {
   "cell_type": "code",
   "execution_count": 20,
   "id": "1da54c54-c913-4433-9a32-b53203ed6280",
   "metadata": {},
   "outputs": [],
   "source": [
    "#Scale for each feature\n",
    "from sklearn.preprocessing import MinMaxScaler\n",
    "scaler = MinMaxScaler()\n",
    "\n",
    "X_train = scaler.fit_transform(X_train)\n",
    "X_test = scaler.transform(X_test)"
   ]
  },
  {
   "cell_type": "code",
   "execution_count": 21,
   "id": "4f9cb8b6-6229-44e5-97d2-c2ef34a72610",
   "metadata": {},
   "outputs": [
    {
     "data": {
      "text/plain": [
       "array([[0.4741784 , 0.        , 0.45454545, ..., 0.58333333, 0.        ,\n",
       "        0.34595202],\n",
       "       [0.74178404, 0.        , 0.53719008, ..., 0.20833333, 1.        ,\n",
       "        0.39955022],\n",
       "       [0.30516432, 0.        , 0.26859504, ..., 0.826875  , 0.        ,\n",
       "        0.22076462],\n",
       "       ...,\n",
       "       [0.69014085, 0.        , 0.59917355, ..., 0.6875    , 1.        ,\n",
       "        0.41491754],\n",
       "       [0.91079812, 0.        , 0.22727273, ..., 0.1875    , 1.        ,\n",
       "        0.50712144],\n",
       "       [0.66666667, 0.        , 0.90909091, ..., 0.20833333, 1.        ,\n",
       "        0.37781109]])"
      ]
     },
     "execution_count": 21,
     "metadata": {},
     "output_type": "execute_result"
    }
   ],
   "source": [
    "X_train"
   ]
  },
  {
   "cell_type": "code",
   "execution_count": 52,
   "id": "ce9e6c36-ad1b-47fe-82bb-084802a9c2e8",
   "metadata": {},
   "outputs": [
    {
     "data": {
      "text/plain": [
       "101    1\n",
       "158    0\n",
       "65     0\n",
       "180    1\n",
       "206    0\n",
       "      ..\n",
       "175    0\n",
       "103    1\n",
       "147    1\n",
       "194    0\n",
       "142    1\n",
       "Name: status, Length: 207, dtype: int64"
      ]
     },
     "execution_count": 52,
     "metadata": {},
     "output_type": "execute_result"
    }
   ],
   "source": [
    "Y_train # just for viewing the value that it holds"
   ]
  },
  {
   "cell_type": "code",
   "execution_count": 22,
   "id": "4704bd02-4c06-48ba-8383-ea4f150d98d8",
   "metadata": {},
   "outputs": [],
   "source": [
    "# So we can see above that the X_train is a numpy array with many columns and the model will give equal importance"
   ]
  },
  {
   "cell_type": "markdown",
   "id": "f8c8b002-b592-4e1b-982b-ef97a2f17598",
   "metadata": {},
   "source": [
    "# Model 1- K-Nearest Neighbour"
   ]
  },
  {
   "cell_type": "code",
   "execution_count": 23,
   "id": "898700c1-b2f2-429c-8db9-80ac0d3c55e2",
   "metadata": {},
   "outputs": [],
   "source": [
    "from  sklearn.neighbors import KNeighborsClassifier\n",
    "\n",
    "knn = KNeighborsClassifier(n_neighbors=3) # we are keeping the three clusters\n",
    "knn.fit(X_train,Y_train)\n",
    "knn_Y_pred=knn.predict(X_test)"
   ]
  },
  {
   "cell_type": "code",
   "execution_count": 24,
   "id": "0438d824-7a3c-4a5a-b313-96fecd353c9e",
   "metadata": {},
   "outputs": [
    {
     "data": {
      "text/plain": [
       "array([0, 0, 0, 1, 0, 1, 1, 0, 0, 1, 0, 0, 1, 0, 0, 1, 1, 0, 0, 0, 1, 0,\n",
       "       0, 1, 1, 1, 1, 1, 0, 0, 0, 1, 1, 0, 0, 1, 0, 1, 0, 0, 0, 0, 0, 1,\n",
       "       1, 0, 1, 1, 1, 0, 0, 1, 1, 1, 0, 1, 1, 1, 1, 0, 1, 1, 1, 0, 0, 1,\n",
       "       0, 1, 1, 0, 0, 1, 1, 1, 0, 0, 1, 1, 1, 1, 1, 0, 1, 1, 0, 0, 0, 1,\n",
       "       1], dtype=int64)"
      ]
     },
     "execution_count": 24,
     "metadata": {},
     "output_type": "execute_result"
    }
   ],
   "source": [
    "knn_Y_pred"
   ]
  },
  {
   "cell_type": "code",
   "execution_count": 25,
   "id": "e878f97a-0f76-4a06-945e-0533e5296256",
   "metadata": {},
   "outputs": [],
   "source": [
    "# To calculate the accuracy score"
   ]
  },
  {
   "cell_type": "code",
   "execution_count": 26,
   "id": "f117ada7-3c06-4d5e-a79e-bac1160e4c8d",
   "metadata": {},
   "outputs": [
    {
     "data": {
      "text/plain": [
       "0.8539325842696629"
      ]
     },
     "execution_count": 26,
     "metadata": {},
     "output_type": "execute_result"
    }
   ],
   "source": [
    "score=knn.score(X_test,Y_test)\n",
    "score"
   ]
  },
  {
   "cell_type": "code",
   "execution_count": 27,
   "id": "b5299b33-45e5-4e79-a74a-9cf344fcd0a1",
   "metadata": {},
   "outputs": [
    {
     "data": {
      "text/plain": [
       "0.8539325842696629"
      ]
     },
     "execution_count": 27,
     "metadata": {},
     "output_type": "execute_result"
    }
   ],
   "source": [
    "#Another method for accuracy score :-\n",
    "from sklearn.metrics import accuracy_score\n",
    "accuracy_score = accuracy_score(knn_Y_pred,Y_test)\n",
    "accuracy_score"
   ]
  },
  {
   "cell_type": "markdown",
   "id": "e74a0aa5-a7c2-48ac-89ee-e20e9127a701",
   "metadata": {},
   "source": [
    "# Plotting the confusion Matrix"
   ]
  },
  {
   "cell_type": "code",
   "execution_count": 28,
   "id": "41cb5e1c-02f1-4989-86bc-3572889cbdae",
   "metadata": {},
   "outputs": [],
   "source": [
    "# confusion matrix define how best the given model classfies and misclassifies"
   ]
  },
  {
   "cell_type": "code",
   "execution_count": 29,
   "id": "f5ec14fb-0aa8-4146-be1d-4b2501a944a8",
   "metadata": {},
   "outputs": [
    {
     "data": {
      "image/png": "[encoded data removed]",
      "text/plain": [
       "<Figure size 1000x700 with 2 Axes>"
      ]
     },
     "metadata": {},
     "output_type": "display_data"
    }
   ],
   "source": [
    "# pip uninstall matplotlib\n",
    "# pip install matplotlib==3.7.3 --user\n",
    "from sklearn.metrics import confusion_matrix\n",
    "import matplotlib.pyplot as plt\n",
    "import seaborn as sns\n",
    "\n",
    "conf_mat = confusion_matrix(Y_test, knn_Y_pred)\n",
    "fig = plt.figure(figsize=(10,7))\n",
    "\n",
    "group_names = ['True Neg','False Pos','False Neg','True Pos']\n",
    "\n",
    "group_counts = [\"{0:0.0f}\".format(value) for value in conf_mat.flatten()]\n",
    "\n",
    "labels = [f\"{v1}\\n{v2}\" for v1, v2 in zip(group_names,group_counts)]\n",
    "\n",
    "labels = np.asarray(labels).reshape(2,2)\n",
    "\n",
    "\n",
    "sns.heatmap(conf_mat, annot=labels, annot_kws={\"size\": 16}, fmt='')\n",
    "plt.title(\"Confusion Matrix\")\n",
    "plt.xlabel(\"Predicted Label\")\n",
    "plt.ylabel(\"True Label\")\n",
    "plt.show()\n"
   ]
  },
  {
   "cell_type": "code",
   "execution_count": 30,
   "id": "c2cdcd2f-e6e8-433c-890a-ccaf805c118f",
   "metadata": {},
   "outputs": [],
   "source": [
    "# in the above result we can see that the true negative is 34 means that for 0 true label 0 is the  predicted label that are correct so named True Negative.\n",
    "# in the above result we can see that the false positive is 5 means that for 0 true label 1 is the predicted label that is not correct so named False Positive.\n",
    "# in the above result we can see that the false negative is 8 means that for 1 true label 0 is predicted label that is not correct so for true value we got negative value in prediction so the name False negative.\n",
    "# in the above result we can see that the True positive is 42 means that for 1 true label  1 is predicted label that is correct because our predicted result are equal to the true value so named True positive"
   ]
  },
  {
   "cell_type": "markdown",
   "id": "1c709f6a-495d-4622-ae46-6f016468e195",
   "metadata": {},
   "source": [
    "# Model 2 - Decision Tree"
   ]
  },
  {
   "cell_type": "code",
   "execution_count": 31,
   "id": "b7b5295f-14b6-4971-ac54-c260a654a094",
   "metadata": {},
   "outputs": [
    {
     "data": {
      "text/plain": [
       "0.9325842696629213"
      ]
     },
     "execution_count": 31,
     "metadata": {},
     "output_type": "execute_result"
    }
   ],
   "source": [
    "# Decision Tree\n",
    "from sklearn.tree import DecisionTreeClassifier\n",
    "decision_tree = DecisionTreeClassifier()\n",
    "decision_tree.fit(X_train,Y_train)\n",
    "decision_tree_Y_pred = decision_tree.predict(X_test)\n",
    "decision_tree_accuracy = decision_tree.score(X_test,Y_test)\n",
    "decision_tree_accuracy"
   ]
  },
  {
   "cell_type": "code",
   "execution_count": 32,
   "id": "664e6756-477e-4410-bb85-7701c07194d3",
   "metadata": {},
   "outputs": [],
   "source": [
    "#creating confusion matrix heatmap"
   ]
  },
  {
   "cell_type": "code",
   "execution_count": 33,
   "id": "1baf879f-96e1-45b8-8a24-1283d8139a82",
   "metadata": {},
   "outputs": [
    {
     "data": {
      "image/png": "[encoded data removed]",
      "text/plain": [
       "<Figure size 1000x700 with 2 Axes>"
      ]
     },
     "metadata": {},
     "output_type": "display_data"
    }
   ],
   "source": [
    "conf_mat = confusion_matrix(Y_test, decision_tree_Y_pred)\n",
    "fig = plt.figure(figsize=(10,7))\n",
    "\n",
    "group_names = ['True Neg','False Pos','False Neg','True Pos']\n",
    "\n",
    "group_counts = [\"{0:0.0f}\".format(value) for value in conf_mat.flatten()]\n",
    "\n",
    "labels = [f\"{v1}\\n{v2}\" for v1, v2 in zip(group_names,group_counts)]\n",
    "\n",
    "labels = np.asarray(labels).reshape(2,2)\n",
    "\n",
    "\n",
    "sns.heatmap(conf_mat, annot=labels, annot_kws={\"size\": 16}, fmt='')\n",
    "plt.title(\"Confusion Matrix\")\n",
    "plt.xlabel(\"Predicted Label\")\n",
    "plt.ylabel(\"True Label\")\n",
    "plt.show()\n"
   ]
  },
  {
   "cell_type": "code",
   "execution_count": 34,
   "id": "b4f5aa5b-4a5e-4af6-924a-83dcfd1de7b7",
   "metadata": {},
   "outputs": [],
   "source": [
    "# so we can see that it has less value of false positive and false negative ."
   ]
  },
  {
   "cell_type": "markdown",
   "id": "ba4e48e3-c224-498e-93cc-c54905e8de14",
   "metadata": {},
   "source": [
    "# Model3-SVM"
   ]
  },
  {
   "cell_type": "code",
   "execution_count": 35,
   "id": "8ac0bcaa-9f5d-48ed-ad5a-a5aaffde503c",
   "metadata": {},
   "outputs": [
    {
     "data": {
      "text/plain": [
       "0.8764044943820225"
      ]
     },
     "execution_count": 35,
     "metadata": {},
     "output_type": "execute_result"
    }
   ],
   "source": [
    "# Support Vector Machine\n",
    "from sklearn.svm import SVC\n",
    "svc = SVC()\n",
    "svc.fit(X_train, Y_train)\n",
    "svm_Y_pred = svc.predict(X_test)\n",
    "svc_accuracy = svc.score(X_test, Y_test)\n",
    "svc_accuracy"
   ]
  },
  {
   "cell_type": "code",
   "execution_count": 36,
   "id": "ff8bca10-f375-4ede-9628-5ce1b73bff2e",
   "metadata": {},
   "outputs": [
    {
     "data": {
      "image/png": "[encoded data removed]",
      "text/plain": [
       "<Figure size 1000x700 with 2 Axes>"
      ]
     },
     "metadata": {},
     "output_type": "display_data"
    }
   ],
   "source": [
    "# creating confusion matrix heatmap\n",
    "\n",
    "conf_mat = confusion_matrix(Y_test, svm_Y_pred)\n",
    "fig = plt.figure(figsize=(10,7))\n",
    "group_names = ['True Neg','False Pos','False Neg','True Pos']\n",
    "group_counts = [\"{0:0.0f}\".format(value) for value in\n",
    "                conf_mat.flatten()]\n",
    "labels = [f\"{v1}\\n{v2}\" for v1, v2 in zip(group_names,group_counts)]\n",
    "labels = np.asarray(labels).reshape(2,2)\n",
    "sns.heatmap(conf_mat, annot=labels, annot_kws={\"size\": 16}, fmt='')\n",
    "plt.title(\"Confusion Matrix\")\n",
    "plt.xlabel(\"Predicted Label\")\n",
    "plt.ylabel(\"True Label\")\n",
    "plt.show()"
   ]
  },
  {
   "cell_type": "markdown",
   "id": "d20e5ee2-e985-4096-a765-5453472e26b9",
   "metadata": {},
   "source": [
    "# Model4 - RandomForest"
   ]
  },
  {
   "cell_type": "code",
   "execution_count": 37,
   "id": "339ddfd5-7cd7-4016-8034-82999b0e69d1",
   "metadata": {},
   "outputs": [
    {
     "data": {
      "text/plain": [
       "0.9101123595505618"
      ]
     },
     "execution_count": 37,
     "metadata": {},
     "output_type": "execute_result"
    }
   ],
   "source": [
    "from sklearn.ensemble import RandomForestClassifier\n",
    "\n",
    "random_forest = RandomForestClassifier(n_estimators=1000)\n",
    "random_forest.fit(X_train, Y_train)\n",
    "random_forest_Y_pred = random_forest.predict(X_test)\n",
    "random_forest.score(X_train, Y_train)\n",
    "random_forest_accuracy = random_forest.score(X_test, Y_test)\n",
    "random_forest_accuracy"
   ]
  },
  {
   "cell_type": "code",
   "execution_count": 38,
   "id": "4be2458d-8456-4096-8c6b-7a2ebbba4473",
   "metadata": {},
   "outputs": [
    {
     "data": {
      "image/png": "[encoded data removed]",
      "text/plain": [
       "<Figure size 1000x700 with 2 Axes>"
      ]
     },
     "metadata": {},
     "output_type": "display_data"
    }
   ],
   "source": [
    "# creating confusion matrix heatmap\n",
    "\n",
    "conf_mat = confusion_matrix(Y_test, random_forest_Y_pred)\n",
    "fig = plt.figure(figsize=(10,7))\n",
    "group_names = ['True Neg','False Pos','False Neg','True Pos']\n",
    "group_counts = [\"{0:0.0f}\".format(value) for value in\n",
    "                conf_mat.flatten()]\n",
    "labels = [f\"{v1}\\n{v2}\" for v1, v2 in zip(group_names,group_counts)]\n",
    "labels = np.asarray(labels).reshape(2,2)\n",
    "sns.heatmap(conf_mat, annot=labels, annot_kws={\"size\": 16}, fmt='')\n",
    "plt.title(\"Confusion Matrix\")\n",
    "plt.xlabel(\"Predicted Label\")\n",
    "plt.ylabel(\"True Label\")\n",
    "plt.show()"
   ]
  },
  {
   "cell_type": "markdown",
   "id": "cb9c75c0-379a-4240-8d29-7043d027a713",
   "metadata": {},
   "source": [
    "# Model 5:-Gaussian Naive Bayes"
   ]
  },
  {
   "cell_type": "code",
   "execution_count": 39,
   "id": "fab30f05-f30c-4a4a-8026-d8539a194620",
   "metadata": {},
   "outputs": [
    {
     "data": {
      "text/plain": [
       "0.7640449438202247"
      ]
     },
     "execution_count": 39,
     "metadata": {},
     "output_type": "execute_result"
    }
   ],
   "source": [
    "from sklearn.naive_bayes import GaussianNB\n",
    "gaussian = GaussianNB()\n",
    "gaussian.fit(X_train, Y_train)\n",
    "gaussian_Y_pred = gaussian.predict(X_test)\n",
    "gaussian_accuracy = gaussian.score(X_test, Y_test)\n",
    "gaussian_accuracy"
   ]
  },
  {
   "cell_type": "markdown",
   "id": "6dae5b43-ffbd-4204-8c0c-4e6c5a9d86ed",
   "metadata": {},
   "source": [
    "# Model 6:- Logistic Regression"
   ]
  },
  {
   "cell_type": "code",
   "execution_count": 40,
   "id": "b0173df0-b00a-47fe-a8cf-632ea49185a6",
   "metadata": {},
   "outputs": [
    {
     "data": {
      "text/plain": [
       "0.8089887640449438"
      ]
     },
     "execution_count": 40,
     "metadata": {},
     "output_type": "execute_result"
    }
   ],
   "source": [
    "from sklearn.linear_model import LogisticRegression\n",
    "lg = LogisticRegression()\n",
    "lg.fit(X_train, Y_train)\n",
    "lg_Y_pred = lg.predict(X_test)\n",
    "lg_accuracy = lg.score(X_test, Y_test)\n",
    "lg_accuracy"
   ]
  },
  {
   "cell_type": "code",
   "execution_count": 49,
   "id": "180da754-a721-4032-9614-1eb207cbe45e",
   "metadata": {},
   "outputs": [],
   "source": [
    "# so the decision tree gives the best result has it has the highest accuracy score but we are proceeding with random Forest "
   ]
  },
  {
   "cell_type": "markdown",
   "id": "89ea5ed9-8649-432e-943f-97162a8865b6",
   "metadata": {},
   "source": [
    "# Single Input Predictions"
   ]
  },
  {
   "cell_type": "code",
   "execution_count": 42,
   "id": "71aac69a-99dc-4c09-89ae-7d544b87ef72",
   "metadata": {},
   "outputs": [],
   "source": [
    "# HERE WE TEST OUR RESULT FOR INDIVIDUAL DATASET GIVEN BY US"
   ]
  },
  {
   "cell_type": "code",
   "execution_count": 43,
   "id": "defed023-ec8a-4be0-a691-a695b1b2f4c0",
   "metadata": {},
   "outputs": [
    {
     "name": "stdout",
     "output_type": "stream",
     "text": [
      "Predicted Class : 1\n",
      "Actual Class: 0\n"
     ]
    }
   ],
   "source": [
    "print(\"Predicted Class :\",random_forest.predict(X_train[10].reshape(1,-1))[0])\n",
    "print(\"Actual Class:\",Y_test.iloc[10])"
   ]
  },
  {
   "cell_type": "code",
   "execution_count": 44,
   "id": "6d5c5cb3-2e32-4f95-95e4-71f377729b41",
   "metadata": {},
   "outputs": [
    {
     "name": "stdout",
     "output_type": "stream",
     "text": [
      "Predicted Class : 1\n",
      "Actual Class: 1\n"
     ]
    }
   ],
   "source": [
    "print(\"Predicted Class :\",random_forest.predict(X_train[25].reshape(1,-1))[0])\n",
    "print(\"Actual Class:\",Y_test.iloc[25])"
   ]
  },
  {
   "cell_type": "code",
   "execution_count": 45,
   "id": "c530efdc-b7f8-42b5-a278-42ae72de8219",
   "metadata": {},
   "outputs": [
    {
     "name": "stdout",
     "output_type": "stream",
     "text": [
      "Predicted Class : 1\n",
      "Actual Class: 1\n"
     ]
    }
   ],
   "source": [
    "print(\"Predicted Class :\",random_forest.predict(X_train[3].reshape(1,-1))[0])\n",
    "print(\"Actual Class:\",Y_test.iloc[3])"
   ]
  },
  {
   "cell_type": "code",
   "execution_count": 46,
   "id": "54598745-adc8-4f0f-8755-4f17bf438cfe",
   "metadata": {},
   "outputs": [],
   "source": [
    "# so the random forest performs nicely so we select the same model"
   ]
  },
  {
   "cell_type": "markdown",
   "id": "e9906ce8-3bc2-4d53-b0c4-53a7b7393c9a",
   "metadata": {},
   "source": [
    " # Predictive System"
   ]
  },
  {
   "cell_type": "code",
   "execution_count": 47,
   "id": "0577747e-5b76-4084-9bfc-9f76d748604a",
   "metadata": {},
   "outputs": [],
   "source": [
    "def prediction(sl_no, gender, ssc_p, hsc_p, degree_p, workex, etest_p, specialisation, mba_p):\n",
    "    data = {\n",
    "    'sl_no': [sl_no],\n",
    "    'gender': [gender],\n",
    "    'ssc_p': [ssc_p],\n",
    "    'hsc_p': [hsc_p],\n",
    "    'degree_p': [degree_p],\n",
    "    'workex': [workex],\n",
    "    'etest_p': [etest_p],\n",
    "    'specialisation': [specialisation],\n",
    "    'mba_p': [mba_p]\n",
    "    }\n",
    "    # above is the dictionary for data \n",
    "    data = pd.DataFrame(data)\n",
    "    # converting the above data into dataframe\n",
    "    print(data)\n",
    "    data['gender'] = data['gender'].map({'M':1,\"F\":0})\n",
    "    data['workex'] = data['workex'].map({\"Yes\":1,\"No\":0})\n",
    "    data['specialisation'] = data['specialisation'].map({\"Mkt&HR\":1,\"Mkt&Fin\":0})\n",
    "    # transforming the above  \n",
    "    scaled_df = scaler.fit_transform(data)\n",
    "    result = random_forest.predict(scaled_df).reshape(1, -1)\n",
    "    return result[0]"
   ]
  },
  {
   "cell_type": "code",
   "execution_count": 50,
   "id": "e3af453c-3ee0-4216-8f34-770457de5779",
   "metadata": {},
   "outputs": [
    {
     "name": "stdout",
     "output_type": "stream",
     "text": [
      "not place\n"
     ]
    }
   ],
   "source": [
    "#taking the test data for prediction as below\n",
    "sl_no =11\n",
    "gender = \"F\"\n",
    "ssc_p =58.\n",
    "hsc_p = 61.\n",
    "degree_p = 60.\n",
    "workex = \"Yes\"\n",
    "etest_p = 62.\n",
    "specialisation = \"Mkt&Fin\"\n",
    "mba_p = 60.85\n",
    "\n",
    "result = prediction(sl_no, gender, ssc_p, hsc_p, degree_p, workex, etest_p, specialisation, mba_p)\n",
    "\n",
    "if result == 1:\n",
    "    print('place')\n",
    "\n",
    "else:\n",
    "    print('not place')"
   ]
  },
  {
   "cell_type": "markdown",
   "id": "df8b9202-e520-4a8c-b37e-d7eb006a0b18",
   "metadata": {},
   "source": [
    "# Save Files"
   ]
  },
  {
   "cell_type": "code",
   "execution_count": 54,
   "id": "93d71f4f-266f-4471-8510-03e7c902cd27",
   "metadata": {},
   "outputs": [],
   "source": [
    "import pickle\n",
    "pickle.dump(random_forest,open('model.pkl','wb'))  # for saving the model so that it can be used in flask for web development\n",
    "pickle.dump(scaler,open(\"scaler.pkl\",'wb'))       # for saving the scaler so that it can be used in flask for web development"
   ]
  }
 ],
 "metadata": {
  "kernelspec": {
   "display_name": "Python 3 (ipykernel)",
   "language": "python",
   "name": "python3"
  },
  "language_info": {
   "codemirror_mode": {
    "name": "ipython",
    "version": 3
   },
   "file_extension": ".py",
   "mimetype": "text/x-python",
   "name": "python",
   "nbconvert_exporter": "python",
   "pygments_lexer": "ipython3",
   "version": "3.11.7"
  }
 },
 "nbformat": 4,
 "nbformat_minor": 5
}
